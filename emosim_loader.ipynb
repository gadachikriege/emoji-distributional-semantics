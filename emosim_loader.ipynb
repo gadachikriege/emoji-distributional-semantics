{
 "cells": [
  {
   "cell_type": "code",

   "execution_count": 38,

    "metadata": {
    "collapsed": true
   },
   "outputs": [],
   "source": [
    "import pandas as pd\n",

    "import json"
   ]
  },
  {
   "cell_type": "code",
    
   "execution_count": 3,
   "metadata": {
    "collapsed": true
   },
   "outputs": [],
   "source": [
    "emosim_data = json.loads(open('./emoji_datasets/EmoSim508.json').read())\n",
    "'''\n",
    "json format\n",
    "{\n",
    "    'emojiPair': \n",
    "        {\n",
    "        'emojiOne': \n",
    "            {'title': 'musical note',\n",
    "                'unicodelong': '\\\\U0001F3B5',\n",
    "                'unicodeshort': 'U+1F3B5'},\n",
    "       'emojiTwo': \n",
    "           {'title': 'musical notes',\n",
    "            'unicodelong': '\\\\U0001F3B6',\n",
    "            'unicodeshort': 'U+1F3B6'}},\n",
    "    'emojiPairId': '199',\n",
    "    'emojiPairSimilarity': \n",
    "      {'Google_Sense_All': 1.0,\n",
    "       'Google_Sense_Def': 1.0,\n",
    "       'Google_Sense_Desc': 0.84,\n",
    "       'Google_Sense_Label': 0.94,\n",
    "       'Human_Annotator_Agreement': 4.0,\n",
    "       'Twitter_Sense_All': 1.0,\n",
    "       'Twitter_Sense_Def': 1.0,\n",
    "       'Twitter_Sense_Desc': 0.89,\n",
    "       'Twitter_Sense_Label': 0.92}\n",
    "}\n",
    "Pandas format:\n",
    "Emoji,1,2,...10\n",
    "\\\\U0001F3B5',\\\\U0001F3B6',...,null\n",
    "'''"
   ]
  },
  {
   "cell_type": "code",
   "execution_count": 33,
   "metadata": {},
   "outputs": [],
   "source": [
    "#example of information we want: \n",
    "emoji_unicode = emosim_data[0]['emojiPair']['emojiOne']['unicodelong']\n",
    "human_rating = emosim_data[0]['emojiPairSimilarity']['Human_Annotator_Agreement']"
   ]
  },
  {
   "cell_type": "code",
   "execution_count": 34,
   "metadata": {},
   "outputs": [
    {
     "name": "stdout",
     "output_type": "stream",
     "text": [
      "\\U0001F3B5 4.0\n"
     ]
    }
   ],
   "source": [
    "print(emoji_unicode,human_rating)"
   ]
  },
  {
   "cell_type": "code",
   "execution_count": 80,
   "metadata": {
    "collapsed": true
   },
   "outputs": [],
   "source": [

    "def extract_pairs(emosim_json):\n",
    "    # converts emosim json to list of tuples: (emoji1, emoji2, similarity)\n",
    "    # returns dictionary \n",
    "    # dictionary entry looks like this: \n",
    "    # emoji1 : [(emoji2, similarity),(other pairs),...]\n",
    "    pairs = {}\n",
    "    for pair in emosim_json:\n",
    "        emoji1 = pair['emojiPair']['emojiOne']['unicodelong']\n",
    "        emoji2 = pair['emojiPair']['emojiTwo']['unicodelong']\n",
    "        similarity = pair['emojiPairSimilarity']['Human_Annotator_Agreement']\n",
    "        if emoji1 not in pairs: \n",
    "            pairs[emoji1] = [(emoji2,similarity)]\n",
    "        else: \n",
    "            pairs[emoji1].append((emoji2,similarity))\n",
    "        if emoji2 not in pairs: \n",
    "            pairs[emoji2] = [(emoji1,similarity)]\n",
    "        else: \n",
    "            pairs[emoji2].append((emoji1,similarity))\n",

    "    #Sort the rankings\n",
    "    for emoji in pairs.keys():\n",
    "        similar_emojis = pairs[emoji]\n",
    "        sorted_emojis = sorted(similar_emojis, key=lambda tup: tup[1])\n",
    "        pairs[emoji] =  sorted_emojis    \n",
    "    return pairs\n",
    "\n",
    "def emoji_to_ASCII(string):\n",
    "    # example input: '😀hi'\n",
    "    # example output: '\\\\U0001f600hi'\n",
    "    return string.encode('unicode-escape').decode('ASCII')\n",
    "\n",
    "def ASCII_to_emoji(string):\n",
    "    # example input: '\\\\U0001f600hi'\n",
    "    # example output: '😀hi'\n",

    "    return string.encode('ASCII').decode('unicode-escape')"
   ]
  },
  {
   "cell_type": "code",

   "execution_count": 74,
   "metadata": {},
   "outputs": [
    {
     "data": {
      "text/plain": [

       "'\\\\U0001f1ec\\\\U0001f1e7'"
      ]
     },
     "execution_count": 74,
     "metadata": {},
     "output_type": "execute_result"
    }
   ],
   "source": [

    "emoji_to_ASCII('🇬🇧')"
   ]
  },
  {
   "cell_type": "code",

   "execution_count": 73,
   "metadata": {
    "scrolled": true
   },
   "outputs": [
    {
     "data": {
      "text/plain": [

       "'🇬_🇧'"
      ]
     },
     "execution_count": 73,
     "metadata": {},
     "output_type": "execute_result"
    }
   ],
   "source": [

    "ASCII_to_emoji('\\\\U0001F1EC_\\\\U0001F1E7')\n",
    "# \\U0001F3B5"
   ]
  },
  {
   "cell_type": "code",

   "execution_count": 82,
   "metadata": {
    "scrolled": true
   },
   "outputs": [
    {
     "data": {
      "text/plain": [

       "dict_keys(['\\\\U0001F3B5', '\\\\U0001F3B6', '\\\\U0001F38A', '\\\\U0001F389', '\\\\U0000263A', '\\\\U0001F60A', '\\\\U00002764', '\\\\U0001F49E', '\\\\U0001F495', '\\\\U0001F498', '\\\\U0001F60D', '\\\\U0001F49C', '\\\\U0001F499', '\\\\U0001F497', '\\\\U0001F493', '\\\\U0001F3A4', '\\\\U0001F496', '\\\\U0001F49A', '\\\\U0001F49B', '\\\\U0001F3A7', '\\\\U0001F3CC', '\\\\U000026F3', '\\\\U0001F3BC', '\\\\U0001F388', '\\\\U0001F605', '\\\\U0001F602', '\\\\U0001F618', '\\\\U0001F601', '\\\\U0001F62D', '\\\\U0001F629', '\\\\U0001F44D', '\\\\U0001F44C', '\\\\U0001F62B', '\\\\U0001F622', '\\\\U0001F48B', '\\\\U0001F381', '\\\\U0001F382', '\\\\U0001F606', '\\\\U0001F644', '\\\\U0001F914', '\\\\U0001F4AB', '\\\\U00002728', '\\\\U0001F494', '\\\\U0001F604', '\\\\U00002705', '\\\\U0001F614', '\\\\U0001F449', '\\\\U0001F448', '\\\\U0001F44F', '\\\\U0001F648', '\\\\U0001F64A', '\\\\U0001F61D', '\\\\U0001F609', '\\\\U00002714', '\\\\U0001F4FB', '\\\\U000027A1', '\\\\U00002B05', '\\\\U0001F4AF', '\\\\U0001F30A', '\\\\U0001F3C4', '\\\\U0001F63B', '\\\\U0001F64C', '\\\\U0001F64F', '\\\\U0001F60C', '\\\\U0001F440', '\\\\U0001F649', '\\\\U0001F3C6', '\\\\U000026BD', '\\\\U0001F525', '\\\\U0001F4A5', '\\\\U0001F61C', '\\\\U0001F612', '\\\\U0001F61B', '\\\\U0001F44B', '\\\\U0001F44A', '\\\\U0001F339', '\\\\U0001F343', '\\\\U0000261D', '\\\\U0001F447', '\\\\U0001F60B', '\\\\U0001F60E', '\\\\U0001F633', '\\\\U0001F1EC_\\\\U0001F1E7', '\\\\U0001F1FA_\\\\U0001F1F8', '\\\\U000026A0', '\\\\U0001F6A9', '\\\\U0001F193', '\\\\U0001F4B8', '\\\\U0001F917', '\\\\U0001F643', '\\\\U0001F338', '\\\\U0001F48D', '\\\\U0001F51D', '\\\\U0001F607', '\\\\U0001F608', '\\\\U0000270C', '\\\\U0001F303', '\\\\U0001F4CD', '\\\\U0001F61A', '\\\\U0001F484', '\\\\U0001F60F', '\\\\U0001F4B0', '\\\\U0001F451', '\\\\U0001F319', '\\\\U0001F4A9', '\\\\U0001F483', '\\\\U0001F918', '\\\\U0001F3C5', '\\\\U0001F631', '\\\\U0001F3A5', '\\\\U0001F4E2', '\\\\U0001F31F', '\\\\U0000203C', '\\\\U0001F3AF', '\\\\U0001F613', '\\\\U000026AA', '\\\\U0001F518', '\\\\U0001F308', '\\\\U0001F984', '\\\\U0001F4AA', '\\\\U0001F4A6', '\\\\U0001F459', '\\\\U0001F31A', '\\\\U0001F615', '\\\\U0001F480', '\\\\U0001F445', '\\\\U0001F579', '\\\\U0001F611', '\\\\U0001F4F7', '\\\\U000000A9', '\\\\U0001F481', '\\\\U0001F610', '\\\\U0001F595', '\\\\U0001F634', '\\\\U0001F4F2', '\\\\U0001F6AB', '\\\\U0001F43A', '\\\\U0001F346', '\\\\U0001F334', '\\\\U0001F3C7', '\\\\U000025B6', '\\\\U0001F463', '\\\\U00002620', '\\\\U0001F50A', '\\\\U0001F1F3_\\\\U0001F1EC', '\\\\U0000267B', '\\\\U0001F4F1', '\\\\U0001F695', '\\\\U0001F62A', '\\\\U0001F596', '\\\\U0001F306', '\\\\U0001F307', '\\\\U0001F501', '\\\\U0000274C', '\\\\U000023E9', '\\\\U000023ED', '\\\\U0000270A', '\\\\U000021AA'])"
      ]
     },
     "execution_count": 82,
     "metadata": {},
     "output_type": "execute_result"
    }
   ],
   "source": [

    "emoji_rankings = extract_pairs(emosim_data)\n",
    "emoji_rankings.keys()"
   ]
  },
  {
   "cell_type": "code",

   "execution_count": 68,
   "metadata": {
    "scrolled": false
   },
   "outputs": [
    {

     "ename": "TypeError",
     "evalue": "'dict_values' object is not subscriptable",
     "output_type": "error",
     "traceback": [
      "\u001b[0;31m---------------------------------------------------------------------------\u001b[0m",
      "\u001b[0;31mTypeError\u001b[0m                                 Traceback (most recent call last)",
      "\u001b[0;32m<ipython-input-68-0a9b57866ab9>\u001b[0m in \u001b[0;36m<module>\u001b[0;34m()\u001b[0m\n\u001b[1;32m      1\u001b[0m \u001b[0;31m# emoji_rankings[emoji_to_ASCII('😀')]\u001b[0m\u001b[0;34m\u001b[0m\u001b[0;34m\u001b[0m\u001b[0m\n\u001b[0;32m----> 2\u001b[0;31m \u001b[0memoji_rankings\u001b[0m\u001b[0;34m[\u001b[0m\u001b[0;34m'\\\\U0001f600'\u001b[0m\u001b[0;34m]\u001b[0m\u001b[0;34m\u001b[0m\u001b[0m\n\u001b[0m",
      "\u001b[0;31mTypeError\u001b[0m: 'dict_values' object is not subscriptable"
     ]
    }
   ],
   "source": [
    "# emoji_rankings[emoji_to_ASCII('😀')]\n",
    "emoji_rankings['\\\\U0001f600']"
   ]
  },
  {
   "cell_type": "code",
   "execution_count": null,
   "metadata": {
    "collapsed": true
   },
   "outputs": [],
   "source": []
  }
 ],
 "metadata": {
  "kernelspec": {
   "display_name": "Python 3",
   "language": "python",
   "name": "python3"
  },
  "language_info": {
   "codemirror_mode": {
    "name": "ipython",
    "version": 3
   },
   "file_extension": ".py",
   "mimetype": "text/x-python",
   "name": "python",
   "nbconvert_exporter": "python",
   "pygments_lexer": "ipython3",
   "version": "3.6.3"
  }
 },
 "nbformat": 4,
 "nbformat_minor": 2
}
